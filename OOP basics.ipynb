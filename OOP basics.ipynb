{
 "cells": [
  {
   "cell_type": "markdown",
   "metadata": {},
   "source": [
    "# Programowanie obiektowe\n",
    "#### DZIEŃ 1:\n",
    "* konfiguracja środowiska\n",
    "* instalować pakiety\n",
    "* podstawy jupytera"
   ]
  },
  {
   "cell_type": "markdown",
   "metadata": {},
   "source": [
    "### Jak używać jupytera"
   ]
  },
  {
   "cell_type": "markdown",
   "metadata": {},
   "source": [
    "* _funkcja_ __?__ - co robi dana _funkcja_.\n",
    "* __timeit__ _funkcja_ - mierzy czas operacji danej _funkcji_."
   ]
  },
  {
   "cell_type": "code",
   "execution_count": 18,
   "metadata": {},
   "outputs": [],
   "source": [
    "import random\n",
    "\n",
    "def test_func():\n",
    "    \n",
    "    for i in range(100):\n",
    "        chosen_int = random.randint(0,100)\n",
    "    return chosen_int"
   ]
  },
  {
   "cell_type": "code",
   "execution_count": 19,
   "metadata": {},
   "outputs": [
    {
     "name": "stdout",
     "output_type": "stream",
     "text": [
      "204 µs ± 7.75 µs per loop (mean ± std. dev. of 7 runs, 1000 loops each)\n"
     ]
    }
   ],
   "source": [
    "%timeit test_func()"
   ]
  },
  {
   "cell_type": "markdown",
   "metadata": {},
   "source": [
    "### Ćwiczenie jupyter\n",
    "* Przypisz pliki tekstowe do zmiennej __lista_plikow__\n",
    "* Wyświetl typ zmiennej __lista_plikow__\n",
    "* Wyswietl ile lini ma każdy plik (polecenie __wc__)\n"
   ]
  },
  {
   "cell_type": "markdown",
   "metadata": {},
   "source": [
    "* {__nazwa__} - __nazwa__ >> bash (jako polecenie terminala)\n",
    "* __!ls__ - list directory\n",
    "* __-l__ - length\n",
    "* __wc__ - word count"
   ]
  },
  {
   "cell_type": "code",
   "execution_count": 46,
   "metadata": {},
   "outputs": [],
   "source": [
    "\n",
    "def rozmiary(rozszerzenie):\n",
    "    \n",
    "    lista_plikow = !ls *.{rozszerzenie}\n",
    "    for plik in lista_plikow:\n",
    "        print(plik)\n",
    "        !wc -l {plik}"
   ]
  },
  {
   "cell_type": "code",
   "execution_count": 50,
   "metadata": {},
   "outputs": [
    {
     "name": "stdout",
     "output_type": "stream",
     "text": [
      "README.md\n",
      "1 README.md\r\n"
     ]
    }
   ],
   "source": [
    "rozmiary(\"md\")"
   ]
  },
  {
   "cell_type": "markdown",
   "metadata": {},
   "source": [
    "### Przykłady obiektów w python"
   ]
  },
  {
   "cell_type": "markdown",
   "metadata": {},
   "source": [
    "* __class__ - abstrakcja\n",
    "* __obiekt/instancja__ - konkretna reprezentacja\n",
    "* __isinstance(object, class)__ - bool check\n",
    "* __dir(_obiekt_)__ - check all methods for _obiekt_"
   ]
  },
  {
   "cell_type": "code",
   "execution_count": 80,
   "metadata": {},
   "outputs": [],
   "source": [
    "class Car:\n",
    "    '''This is Car model'''\n",
    "    \n",
    "    def __init__(self, brand, model, color, doors_no):\n",
    "        \n",
    "        self.brand = brand\n",
    "        self.model = model\n",
    "        self.color = color\n",
    "        self.doors_no = doors_no\n",
    "    \n",
    "    def __repr__(self):\n",
    "        \n",
    "        return \"{}, {}, {}, {}\".format(self.brand, self.model, self.color, self.doors_no)"
   ]
  },
  {
   "cell_type": "code",
   "execution_count": 81,
   "metadata": {},
   "outputs": [],
   "source": [
    "nasz_fiat_tipo = Car('Fiat', 'Tipo', 'pink', 4)\n",
    "nasza_toyota = Car('Toyota', 'Auris', 'black', 5)"
   ]
  },
  {
   "cell_type": "code",
   "execution_count": 82,
   "metadata": {},
   "outputs": [
    {
     "data": {
      "text/plain": [
       "Fiat, Tipo, pink, 4"
      ]
     },
     "execution_count": 82,
     "metadata": {},
     "output_type": "execute_result"
    }
   ],
   "source": [
    "nasz_fiat_tipo"
   ]
  },
  {
   "cell_type": "code",
   "execution_count": 83,
   "metadata": {},
   "outputs": [
    {
     "data": {
      "text/plain": [
       "Toyota, Auris, black, 5"
      ]
     },
     "execution_count": 83,
     "metadata": {},
     "output_type": "execute_result"
    }
   ],
   "source": [
    "nasza_toyota"
   ]
  },
  {
   "cell_type": "markdown",
   "metadata": {},
   "source": [
    "Class x:\n",
    "\n",
    "    i = n <---- zmienna globalna dla obiektów z x \n",
    "    \n",
    "    modyfikacja i\n",
    "    tworzenie instancji klasy wywołuje _modyfikacje i_\n",
    "    \n",
    "    def __init__(self, a, b, c...)\n",
    "        self.a = a <---- wartośc parametru a dla instancji"
   ]
  },
  {
   "cell_type": "code",
   "execution_count": 117,
   "metadata": {},
   "outputs": [],
   "source": [
    "class Car:\n",
    "    \n",
    "    '''This is Car model'''\n",
    "    \n",
    "    car_id = 0\n",
    "    \n",
    "    def __init__(self, brand, model, color, doors_no, speed = 0):\n",
    "        \n",
    "        self.brand = brand\n",
    "        self.model = model\n",
    "        self.color = color\n",
    "        self.doors_no = doors_no\n",
    "        self.speed = speed\n",
    "        Car.car_id += 1\n",
    "    \n",
    "    def __repr__(self):\n",
    "        \n",
    "        return \"{}, {}, {}, {}\".format(self.brand, self.model, self.color, self.doors_no)\n",
    "    \n",
    "    def wheel_count(self):\n",
    "        \n",
    "        return self.wheels"
   ]
  },
  {
   "cell_type": "code",
   "execution_count": 118,
   "metadata": {},
   "outputs": [],
   "source": [
    "bmw = Car('BMW', 'E30', 'black', 4 )"
   ]
  },
  {
   "cell_type": "code",
   "execution_count": 119,
   "metadata": {},
   "outputs": [
    {
     "data": {
      "text/plain": [
       "1"
      ]
     },
     "execution_count": 119,
     "metadata": {},
     "output_type": "execute_result"
    }
   ],
   "source": [
    "bmw.car_id"
   ]
  },
  {
   "cell_type": "code",
   "execution_count": 120,
   "metadata": {},
   "outputs": [],
   "source": [
    "\n",
    "audi = Car('Audi', 'R8', 'silver', 2)"
   ]
  },
  {
   "cell_type": "code",
   "execution_count": 121,
   "metadata": {},
   "outputs": [
    {
     "data": {
      "text/plain": [
       "2"
      ]
     },
     "execution_count": 121,
     "metadata": {},
     "output_type": "execute_result"
    }
   ],
   "source": [
    "audi.car_id"
   ]
  },
  {
   "cell_type": "markdown",
   "metadata": {},
   "source": [
    "### Przeciążenia operatorów\n",
    "* __gt__ - porównaj wartości zadeklarowane w  __Class__ dwóch różnych instancji"
   ]
  },
  {
   "cell_type": "code",
   "execution_count": 234,
   "metadata": {},
   "outputs": [],
   "source": [
    "class Car:\n",
    "    \n",
    "    def __init__(self, brand, model, color, doors_no = 2, vmax = 0):\n",
    "        self.brand = brand\n",
    "        self.model = model\n",
    "        self.color = color\n",
    "        self.doors_no = doors_no\n",
    "        self.vmax = vmax\n",
    "        \n",
    "    def __repr__(self):\n",
    "        return \"{} {}\".format(self.brand, self.model)\n",
    "    \n",
    "    def __gt__(self, other):\n",
    "        return self.vmax > other.vmax\n",
    "        "
   ]
  },
  {
   "cell_type": "code",
   "execution_count": 235,
   "metadata": {},
   "outputs": [],
   "source": [
    "audi = Car('Audi', 'R8', 'silver', 2)\n",
    "bmw = Car('BMW', 'E30', 'black', 4 )"
   ]
  },
  {
   "cell_type": "markdown",
   "metadata": {},
   "source": [
    "### Dziedziczenie"
   ]
  },
  {
   "cell_type": "code",
   "execution_count": 236,
   "metadata": {},
   "outputs": [],
   "source": [
    "class Truck(Car):\n",
    "    \n",
    "    wheels = 12\n",
    "    \n",
    "    def __init__(self, load, *args, **kwargs):\n",
    "        \n",
    "        super().__init__(self, load, *args, **kwargs)\n",
    "        self.load = load\n",
    "    "
   ]
  },
  {
   "cell_type": "code",
   "execution_count": 237,
   "metadata": {},
   "outputs": [],
   "source": [
    "class ParkingLot:\n",
    "    \n",
    "    def __init__(self, cars = None):\n",
    "        if cars is None:\n",
    "            self.cars = []\n",
    "        else:\n",
    "            self.cars = cars\n",
    "            \n",
    "    def lst(self):\n",
    "        for car in self.cars:\n",
    "            print(car.brand, car.model)\n",
    "            \n",
    "    def __len__(self):\n",
    "        return len(self.cars)\n",
    "        \n",
    "        "
   ]
  },
  {
   "cell_type": "code",
   "execution_count": 238,
   "metadata": {},
   "outputs": [],
   "source": [
    "audi = Car('Audi', 'R8', 'silver', 2)\n",
    "bmw = Car('BMW', 'E30', 'black', 4 )"
   ]
  },
  {
   "cell_type": "code",
   "execution_count": 239,
   "metadata": {},
   "outputs": [],
   "source": [
    "parking = [audi, bmw] "
   ]
  },
  {
   "cell_type": "code",
   "execution_count": 240,
   "metadata": {},
   "outputs": [],
   "source": [
    "nasz_parking = ParkingLot(parking)"
   ]
  },
  {
   "cell_type": "code",
   "execution_count": 241,
   "metadata": {},
   "outputs": [
    {
     "name": "stdout",
     "output_type": "stream",
     "text": [
      "Audi R8\n",
      "BMW E30\n"
     ]
    }
   ],
   "source": [
    "nasz_parking.lst()"
   ]
  },
  {
   "cell_type": "code",
   "execution_count": 242,
   "metadata": {},
   "outputs": [
    {
     "data": {
      "text/plain": [
       "2"
      ]
     },
     "execution_count": 242,
     "metadata": {},
     "output_type": "execute_result"
    }
   ],
   "source": [
    "len(nasz_parking)"
   ]
  },
  {
   "cell_type": "code",
   "execution_count": 243,
   "metadata": {},
   "outputs": [
    {
     "data": {
      "text/plain": [
       "Audi R8"
      ]
     },
     "execution_count": 243,
     "metadata": {},
     "output_type": "execute_result"
    }
   ],
   "source": [
    "audi"
   ]
  },
  {
   "cell_type": "code",
   "execution_count": 244,
   "metadata": {},
   "outputs": [],
   "source": [
    "scania = Truck(30,'awdawd','awdawd')"
   ]
  },
  {
   "cell_type": "code",
   "execution_count": null,
   "metadata": {},
   "outputs": [],
   "source": [
    "class Garage(list):\n",
    "    def iterate_over_cars(self):\n",
    "        \n",
    "        "
   ]
  }
 ],
 "metadata": {
  "kernelspec": {
   "display_name": "Python 3",
   "language": "python",
   "name": "python3"
  },
  "language_info": {
   "codemirror_mode": {
    "name": "ipython",
    "version": 3
   },
   "file_extension": ".py",
   "mimetype": "text/x-python",
   "name": "python",
   "nbconvert_exporter": "python",
   "pygments_lexer": "ipython3",
   "version": "3.6.6"
  }
 },
 "nbformat": 4,
 "nbformat_minor": 2
}
